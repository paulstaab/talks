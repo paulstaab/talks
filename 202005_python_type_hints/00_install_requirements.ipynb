{
 "cells": [
  {
   "cell_type": "code",
   "execution_count": null,
   "metadata": {},
   "outputs": [
    {
     "name": "stdout",
     "output_type": "stream",
     "text": [
      "Collecting mypy\n",
      "  Downloading mypy-0.782-cp38-cp38-manylinux1_x86_64.whl (21.7 MB)\n",
      "\u001b[K     |████████████████████████████████| 21.7 MB 6.7 MB/s eta 0:00:01     |███████████████████████████▊    | 18.8 MB 6.0 MB/s eta 0:00:01\n",
      "\u001b[?25hCollecting mypy-extensions<0.5.0,>=0.4.3\n",
      "  Downloading mypy_extensions-0.4.3-py2.py3-none-any.whl (4.5 kB)\n",
      "Collecting typing-extensions>=3.7.4\n",
      "  Downloading typing_extensions-3.7.4.2-py3-none-any.whl (22 kB)\n",
      "Collecting typed-ast<1.5.0,>=1.4.0\n",
      "  Downloading typed_ast-1.4.1-cp38-cp38-manylinux1_x86_64.whl (768 kB)\n",
      "\u001b[K     |████████████████████████████████| 768 kB 7.0 MB/s eta 0:00:01\n",
      "\u001b[?25hInstalling collected packages: mypy-extensions, typing-extensions, typed-ast, mypy\n",
      "Successfully installed mypy-0.782 mypy-extensions-0.4.3 typed-ast-1.4.1 typing-extensions-3.7.4.2\n"
     ]
    }
   ],
   "source": [
    "!piploc install -r requirements.txt"
   ]
  },
  {
   "cell_type": "code",
   "execution_count": null,
   "metadata": {},
   "outputs": [],
   "source": [
    "!piploc freeze > requirements.lock"
   ]
  },
  {
   "cell_type": "code",
   "execution_count": null,
   "metadata": {},
   "outputs": [],
   "source": []
  }
 ],
 "metadata": {
  "kernelspec": {
   "display_name": "Python 3 (pythonloc)",
   "language": "python",
   "name": "pythonloc"
  },
  "language_info": {
   "codemirror_mode": {
    "name": "ipython",
    "version": 3
   },
   "file_extension": ".py",
   "mimetype": "text/x-python",
   "name": "python",
   "nbconvert_exporter": "python",
   "pygments_lexer": "ipython3",
   "version": "3.8.4"
  }
 },
 "nbformat": 4,
 "nbformat_minor": 4
}
