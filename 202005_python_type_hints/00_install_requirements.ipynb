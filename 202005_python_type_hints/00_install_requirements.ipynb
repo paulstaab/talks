{
 "cells": [
  {
   "cell_type": "code",
   "execution_count": 9,
   "metadata": {},
   "outputs": [
    {
     "name": "stdout",
     "output_type": "stream",
     "text": [
      "Collecting mypy\n",
      "  Using cached mypy-0.782-cp38-cp38-manylinux1_x86_64.whl (21.7 MB)\n",
      "Collecting typeguard\n",
      "  Using cached typeguard-2.9.1-py3-none-any.whl (16 kB)\n",
      "Collecting dataenforce\n",
      "  Downloading dataenforce-0.1.2-py3-none-any.whl (8.5 kB)\n",
      "Collecting mypy-extensions<0.5.0,>=0.4.3\n",
      "  Using cached mypy_extensions-0.4.3-py2.py3-none-any.whl (4.5 kB)\n",
      "Collecting typed-ast<1.5.0,>=1.4.0\n",
      "  Using cached typed_ast-1.4.1-cp38-cp38-manylinux1_x86_64.whl (768 kB)\n",
      "Collecting typing-extensions>=3.7.4\n",
      "  Using cached typing_extensions-3.7.4.2-py3-none-any.whl (22 kB)\n",
      "Installing collected packages: mypy-extensions, typed-ast, typing-extensions, mypy, typeguard, dataenforce\n",
      "Successfully installed dataenforce-0.1.2 mypy-0.782 mypy-extensions-0.4.3 typed-ast-1.4.1 typeguard-2.9.1 typing-extensions-3.7.4.2\n",
      "\u001b[33mWARNING: Target directory /home/jovyan/work/talks/202005_python_type_hints/__pypackages__/3.8/lib/typeguard already exists. Specify --upgrade to force replacement.\u001b[0m\n",
      "\u001b[33mWARNING: Target directory /home/jovyan/work/talks/202005_python_type_hints/__pypackages__/3.8/lib/3220aef3144e83d3e26a__mypyc.cpython-38-x86_64-linux-gnu.so already exists. Specify --upgrade to force replacement.\u001b[0m\n",
      "\u001b[33mWARNING: Target directory /home/jovyan/work/talks/202005_python_type_hints/__pypackages__/3.8/lib/mypy_extensions-0.4.3.dist-info already exists. Specify --upgrade to force replacement.\u001b[0m\n",
      "\u001b[33mWARNING: Target directory /home/jovyan/work/talks/202005_python_type_hints/__pypackages__/3.8/lib/typing_extensions.py already exists. Specify --upgrade to force replacement.\u001b[0m\n",
      "\u001b[33mWARNING: Target directory /home/jovyan/work/talks/202005_python_type_hints/__pypackages__/3.8/lib/typing_extensions-3.7.4.2.dist-info already exists. Specify --upgrade to force replacement.\u001b[0m\n",
      "\u001b[33mWARNING: Target directory /home/jovyan/work/talks/202005_python_type_hints/__pypackages__/3.8/lib/__pycache__ already exists. Specify --upgrade to force replacement.\u001b[0m\n",
      "\u001b[33mWARNING: Target directory /home/jovyan/work/talks/202005_python_type_hints/__pypackages__/3.8/lib/mypy-0.782.dist-info already exists. Specify --upgrade to force replacement.\u001b[0m\n",
      "\u001b[33mWARNING: Target directory /home/jovyan/work/talks/202005_python_type_hints/__pypackages__/3.8/lib/mypy_extensions.py already exists. Specify --upgrade to force replacement.\u001b[0m\n",
      "\u001b[33mWARNING: Target directory /home/jovyan/work/talks/202005_python_type_hints/__pypackages__/3.8/lib/mypy already exists. Specify --upgrade to force replacement.\u001b[0m\n",
      "\u001b[33mWARNING: Target directory /home/jovyan/work/talks/202005_python_type_hints/__pypackages__/3.8/lib/typed_ast-1.4.1.dist-info already exists. Specify --upgrade to force replacement.\u001b[0m\n",
      "\u001b[33mWARNING: Target directory /home/jovyan/work/talks/202005_python_type_hints/__pypackages__/3.8/lib/typeguard-2.9.1.dist-info already exists. Specify --upgrade to force replacement.\u001b[0m\n",
      "\u001b[33mWARNING: Target directory /home/jovyan/work/talks/202005_python_type_hints/__pypackages__/3.8/lib/typed_ast already exists. Specify --upgrade to force replacement.\u001b[0m\n",
      "\u001b[33mWARNING: Target directory /home/jovyan/work/talks/202005_python_type_hints/__pypackages__/3.8/lib/mypyc already exists. Specify --upgrade to force replacement.\u001b[0m\n",
      "\u001b[33mWARNING: Target directory /home/jovyan/work/talks/202005_python_type_hints/__pypackages__/3.8/lib/bin already exists. Specify --upgrade to force replacement.\u001b[0m\n"
     ]
    }
   ],
   "source": [
    "!piploc install -r requirements.txt"
   ]
  },
  {
   "cell_type": "code",
   "execution_count": 10,
   "metadata": {},
   "outputs": [],
   "source": [
    "!piploc freeze > requirements.lock"
   ]
  },
  {
   "cell_type": "code",
   "execution_count": null,
   "metadata": {},
   "outputs": [],
   "source": []
  }
 ],
 "metadata": {
  "kernelspec": {
   "display_name": "Python 3 (pythonloc)",
   "language": "python",
   "name": "pythonloc"
  },
  "language_info": {
   "codemirror_mode": {
    "name": "ipython",
    "version": 3
   },
   "file_extension": ".py",
   "mimetype": "text/x-python",
   "name": "python",
   "nbconvert_exporter": "python",
   "pygments_lexer": "ipython3",
   "version": "3.8.4"
  }
 },
 "nbformat": 4,
 "nbformat_minor": 4
}
