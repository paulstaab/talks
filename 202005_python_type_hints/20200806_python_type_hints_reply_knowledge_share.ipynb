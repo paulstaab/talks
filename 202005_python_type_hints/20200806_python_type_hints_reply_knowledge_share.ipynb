{
 "cells": [
  {
   "cell_type": "markdown",
   "metadata": {
    "slideshow": {
     "slide_type": "slide"
    }
   },
   "source": [
    "# Type Hints in Python\n",
    "\n",
    "Paul Staab\n",
    "2020-08-06"
   ]
  },
  {
   "cell_type": "markdown",
   "metadata": {},
   "source": [
    "## How does typing in python work?\n",
    "\n",
    "- Python is a **dynamically typed** programming language\n",
    "- Each variable has fixed type at any given point during program execution\n",
    "- The type can change during progamm execution\n",
    "- Types are determined at runtime, not at compile time"
   ]
  },
  {
   "cell_type": "code",
   "execution_count": 8,
   "metadata": {},
   "outputs": [
    {
     "data": {
      "text/plain": [
       "float"
      ]
     },
     "execution_count": 8,
     "metadata": {},
     "output_type": "execute_result"
    }
   ],
   "source": [
    "x = 1.0\n",
    "type(x)"
   ]
  },
  {
   "cell_type": "code",
   "execution_count": 10,
   "metadata": {},
   "outputs": [
    {
     "data": {
      "text/plain": [
       "str"
      ]
     },
     "execution_count": 10,
     "metadata": {},
     "output_type": "execute_result"
    }
   ],
   "source": [
    "x = 'Hello!'\n",
    "type(x)"
   ]
  },
  {
   "cell_type": "markdown",
   "metadata": {},
   "source": [
    "## What are type hints?\n",
    "\n",
    "Type hints are optional annotations for the type of a variable:"
   ]
  },
  {
   "cell_type": "code",
   "execution_count": 12,
   "metadata": {},
   "outputs": [],
   "source": [
    "x: int = 1"
   ]
  },
  {
   "cell_type": "markdown",
   "metadata": {},
   "source": [
    "They are designed as hints for programmers to **document** the indented type of a variable in a **standardized, machine readable way**.\n",
    "\n",
    "They are not enforced by Python (CPython to be precise):"
   ]
  },
  {
   "cell_type": "code",
   "execution_count": 14,
   "metadata": {},
   "outputs": [],
   "source": [
    "x: int = 'Hello!'"
   ]
  },
  {
   "cell_type": "markdown",
   "metadata": {},
   "source": [
    "You can define type hints for **functions**"
   ]
  },
  {
   "cell_type": "code",
   "execution_count": 17,
   "metadata": {},
   "outputs": [
    {
     "data": {
      "text/plain": [
       "3.8"
      ]
     },
     "execution_count": 17,
     "metadata": {},
     "output_type": "execute_result"
    }
   ],
   "source": [
    "def plus(x: float, y: float) -> float:\n",
    "    return x + y\n",
    "\n",
    "plus(1.5, 2.3)"
   ]
  },
  {
   "cell_type": "code",
   "execution_count": 19,
   "metadata": {},
   "outputs": [
    {
     "data": {
      "text/plain": [
       "'abcd'"
      ]
     },
     "execution_count": 19,
     "metadata": {},
     "output_type": "execute_result"
    }
   ],
   "source": [
    "plus('ab', 'cd')  # Again, tpye hints are not enforced on runtime"
   ]
  },
  {
   "cell_type": "markdown",
   "metadata": {},
   "source": [
    "and for member variables of **classes**"
   ]
  },
  {
   "cell_type": "code",
   "execution_count": 16,
   "metadata": {},
   "outputs": [
    {
     "data": {
      "text/plain": [
       "<__main__.Pet at 0x7f27614b7760>"
      ]
     },
     "execution_count": 16,
     "metadata": {},
     "output_type": "execute_result"
    }
   ],
   "source": [
    "class Pet:\n",
    "    name: str\n",
    "    \n",
    "    def __init__(self, name: str) -> None:\n",
    "        self.name = name\n",
    "        \n",
    "Pet('Hansi')"
   ]
  },
  {
   "cell_type": "markdown",
   "metadata": {},
   "source": [
    "## What are benefits of using type hints?\n",
    "\n",
    "### 1. Documentation\n",
    "Type hints make code easier to understand for your colleagues and your future self "
   ]
  },
  {
   "cell_type": "code",
   "execution_count": null,
   "metadata": {},
   "outputs": [],
   "source": []
  },
  {
   "cell_type": "markdown",
   "metadata": {},
   "source": [
    "In production-grade projects you often have to document your code anyway. Type hints are a standardized way of doing so."
   ]
  },
  {
   "cell_type": "code",
   "execution_count": 22,
   "metadata": {},
   "outputs": [],
   "source": [
    "def plus(x, y):\n",
    "    \"\"\"\n",
    "    Adds two numbers\n",
    "    @param x The first number (float)\n",
    "    @param y The second number (float)\n",
    "    @return The sum of both numbers (float)\n",
    "    \"\"\"\n",
    "    return x + y\n",
    "\n",
    "def plus(x: float, y: float) -> float:\n",
    "    \"\"\"Adds two numbers\"\"\"\n",
    "    return x + y"
   ]
  },
  {
   "cell_type": "markdown",
   "metadata": {},
   "source": [
    "### 2. Better suggestion by your IDEs autocompletion\n",
    "\n",
    "IDEs and editors like PyCharm and Jupyter try hard to determine the type of an object without running the code. But this is possible only sometimes. For example there is no reliable way to derive the type of a function argument:"
   ]
  },
  {
   "cell_type": "code",
   "execution_count": 23,
   "metadata": {},
   "outputs": [],
   "source": [
    "import pandas as pd\n",
    "\n",
    "def fill_missing(df):\n",
    "    df.fil\n",
    "        \n",
    "def drop_missing(df: pd.DataFrame):\n",
    "    df.dr"
   ]
  },
  {
   "cell_type": "markdown",
   "metadata": {},
   "source": [
    "Often, even a few type hints can help the autocompletion engine to derive the types of many other variables. Knowing the type also enables the IDE to make your life easier in other ways, e.g. by showing relevant documentation."
   ]
  },
  {
   "cell_type": "markdown",
   "metadata": {},
   "source": [
    "### 3. Detecting bugs with improved linting and static analysis\n",
    "\n",
    "You can use code analysis tools e.g. as a git pre-commit hook or as part of a CI pipeline to automatically detect type problems in our code without executing it: \n",
    "* General linting tools like pylint and pep8 work better with type hints\n",
    "* Many specialized Python type checkers are available:\n",
    "    * [mypy](http://www.mypy-lang.org)\n",
    "    * [pyre](https://pyre-check.org) (Facebook)\n",
    "    * [pytype](https://google.github.io/pytype) (Google)\n",
    "    * [pyright](https://github.com/microsoft/pyright) (Microsoft)"
   ]
  },
  {
   "cell_type": "code",
   "execution_count": null,
   "metadata": {},
   "outputs": [],
   "source": [
    "The **typing** module offers "
   ]
  },
  {
   "cell_type": "markdown",
   "metadata": {},
   "source": [
    "# Links\n",
    "* https://realpython.com/python-type-checking/"
   ]
  },
  {
   "cell_type": "code",
   "execution_count": null,
   "metadata": {},
   "outputs": [],
   "source": []
  }
 ],
 "metadata": {
  "celltoolbar": "Slideshow",
  "kernelspec": {
   "display_name": "Python 3 (pythonloc)",
   "language": "python",
   "name": "pythonloc"
  },
  "language_info": {
   "codemirror_mode": {
    "name": "ipython",
    "version": 3
   },
   "file_extension": ".py",
   "mimetype": "text/x-python",
   "name": "python",
   "nbconvert_exporter": "python",
   "pygments_lexer": "ipython3",
   "version": "3.8.4"
  }
 },
 "nbformat": 4,
 "nbformat_minor": 4
}
