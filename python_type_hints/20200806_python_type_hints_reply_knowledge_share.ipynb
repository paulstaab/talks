{
 "cells": [
  {
   "cell_type": "markdown",
   "metadata": {
    "slideshow": {
     "slide_type": "slide"
    }
   },
   "source": [
    "# Type Hints in Python\n",
    "\n",
    "Paul Staab\n",
    "2020-08-06"
   ]
  },
  {
   "cell_type": "markdown",
   "metadata": {},
   "source": [
    "## How does typing in python work?\n",
    "\n",
    "- Python is a **dynamically typed** programming language\n",
    "- Each variable has fixed type at any given point during program execution\n",
    "- The type can change during progamm execution\n",
    "- Types are determined at runtime, not at compile time"
   ]
  },
  {
   "cell_type": "code",
   "execution_count": null,
   "metadata": {},
   "outputs": [],
   "source": [
    "x = 1.0\n",
    "type(x)"
   ]
  },
  {
   "cell_type": "code",
   "execution_count": null,
   "metadata": {},
   "outputs": [],
   "source": [
    "x = 'Hello!'\n",
    "type(x)"
   ]
  },
  {
   "cell_type": "markdown",
   "metadata": {},
   "source": [
    "## What are type hints?\n",
    "\n",
    "Type hints are optional annotations for the type of a variable:"
   ]
  },
  {
   "cell_type": "code",
   "execution_count": null,
   "metadata": {},
   "outputs": [],
   "source": [
    "x: int = 1"
   ]
  },
  {
   "cell_type": "markdown",
   "metadata": {},
   "source": [
    "They are designed as hints for programmers to **document** the indented type of a variable in a **standardized, machine readable way**.\n",
    "\n",
    "They are not enforced by Python (CPython to be precise):"
   ]
  },
  {
   "cell_type": "code",
   "execution_count": null,
   "metadata": {},
   "outputs": [],
   "source": [
    "x: int = 'Hello!'"
   ]
  },
  {
   "cell_type": "markdown",
   "metadata": {},
   "source": [
    "You can define type hints for **functions**"
   ]
  },
  {
   "cell_type": "code",
   "execution_count": null,
   "metadata": {},
   "outputs": [],
   "source": [
    "def plus(x: float, y: float) -> float:\n",
    "    return x + y\n",
    "\n",
    "plus(1.5, 2.3)"
   ]
  },
  {
   "cell_type": "code",
   "execution_count": null,
   "metadata": {},
   "outputs": [],
   "source": [
    "plus('ab', 'cd')  # Again, tpye hints are not enforced on runtime"
   ]
  },
  {
   "cell_type": "markdown",
   "metadata": {},
   "source": [
    "and for member variables of **classes**"
   ]
  },
  {
   "cell_type": "code",
   "execution_count": null,
   "metadata": {},
   "outputs": [],
   "source": [
    "class Pet:\n",
    "    name: str\n",
    "    \n",
    "    def __init__(self, name: str) -> None:\n",
    "        self.name = name\n",
    "        \n",
    "Pet('Hansi')"
   ]
  },
  {
   "cell_type": "markdown",
   "metadata": {},
   "source": [
    "## What are benefits of using type hints?\n",
    "\n",
    "### 1. Documentation\n",
    "Type hints make code easier to understand for your colleagues and your future self. In production-grade projects you often have to document your code anyway. Type hints are a standardized way of doing so."
   ]
  },
  {
   "cell_type": "code",
   "execution_count": null,
   "metadata": {},
   "outputs": [],
   "source": [
    "def plus(x, y):\n",
    "    \"\"\"\n",
    "    Adds two numbers\n",
    "    @param x The first number (float)\n",
    "    @param y The second number (float)\n",
    "    @return The sum of both numbers (float)\n",
    "    \"\"\"\n",
    "    return x + y\n",
    "\n",
    "def plus(x: float, y: float) -> float:\n",
    "    \"\"\"Adds two numbers\"\"\"\n",
    "    return x + y"
   ]
  },
  {
   "cell_type": "markdown",
   "metadata": {},
   "source": [
    "### 2. Better suggestion by your IDEs autocompletion\n",
    "\n",
    "IDEs and editors like PyCharm and Jupyter try hard to determine the type of an object without running the code. But this is possible only sometimes. For example there is no reliable way to derive the type of a function argument:"
   ]
  },
  {
   "cell_type": "code",
   "execution_count": null,
   "metadata": {},
   "outputs": [],
   "source": [
    "import pandas as pd\n",
    "\n",
    "def fill_missing(df):\n",
    "    df.fil\n",
    "        \n",
    "def drop_missing(df: pd.DataFrame):\n",
    "    df.dr"
   ]
  },
  {
   "cell_type": "markdown",
   "metadata": {},
   "source": [
    "Often, even a few type hints can help the autocompletion engine to derive the types of many other variables. Knowing the type also enables the IDE to make your life easier in other ways, e.g. by showing relevant documentation."
   ]
  },
  {
   "cell_type": "markdown",
   "metadata": {},
   "source": [
    "### 3. Detecting bugs with improved linting and static analysis\n",
    "\n",
    "You can use code analysis tools e.g. as a git pre-commit hook or as part of a CI pipeline to automatically detect type problems in our code without executing it: \n",
    "* General linting tools like pylint and pep8 work better with type hints\n",
    "* Many specialized Python type checkers are available:\n",
    "    * [mypy](http://www.mypy-lang.org)\n",
    "    * [pyre](https://pyre-check.org) (Facebook)\n",
    "    * [pytype](https://google.github.io/pytype) (Google)\n",
    "    * [pyright](https://github.com/microsoft/pyright) (Microsoft)"
   ]
  },
  {
   "cell_type": "code",
   "execution_count": null,
   "metadata": {},
   "outputs": [],
   "source": [
    "!cat ./type_error_example.py"
   ]
  },
  {
   "cell_type": "code",
   "execution_count": null,
   "metadata": {},
   "outputs": [],
   "source": [
    "!./__pypackages__/3.8/lib/bin/mypy ./type_error_example.py"
   ]
  },
  {
   "cell_type": "markdown",
   "metadata": {},
   "source": [
    "## 4. 3rd party libaries can do amazing things with types\n",
    "Because type hints are machine readable, many 3rd use them to provide conventient functions.\n",
    "\n",
    "### Check function inputs\n",
    "You can use the library [`typeguard`](https://pypi.org/project/typeguard) to check the types of function arguments at runtime:"
   ]
  },
  {
   "cell_type": "code",
   "execution_count": null,
   "metadata": {},
   "outputs": [],
   "source": [
    "from typeguard import typechecked\n",
    "\n",
    "@typechecked\n",
    "def plus(x: float, y: float) -> float:\n",
    "    return x + y\n",
    "\n",
    "plus(1, 2)"
   ]
  },
  {
   "cell_type": "code",
   "execution_count": null,
   "metadata": {},
   "outputs": [],
   "source": [
    "plus('ab', 'cd')"
   ]
  },
  {
   "cell_type": "markdown",
   "metadata": {},
   "source": [
    "### Check the schema of Pandas DataFrames\n",
    "\n",
    "Unfortunately, pandas does not provide or use type hints at the moment, but we can use [`dataenforce`](https://github.com/CedricFR/dataenforce) to check the schema of a DataFrame:"
   ]
  },
  {
   "cell_type": "code",
   "execution_count": null,
   "metadata": {},
   "outputs": [],
   "source": [
    "from dataenforce import Dataset, validate\n",
    "\n",
    "@validate\n",
    "def process_data(data: Dataset[\"id\": int, \"name\": object]):\n",
    "    pass\n",
    "\n",
    "process_data(pd.DataFrame(dict(id=[1,2], name=[\"Alice\", \"Bob\"])))"
   ]
  },
  {
   "cell_type": "code",
   "execution_count": null,
   "metadata": {},
   "outputs": [],
   "source": [
    "process_data(pd.DataFrame(dict(id=[1,2])))"
   ]
  },
  {
   "cell_type": "code",
   "execution_count": null,
   "metadata": {},
   "outputs": [],
   "source": [
    "process_data(pd.DataFrame(dict(id=[1,'2'], name=[\"Alice\", \"Bob\"])))"
   ]
  },
  {
   "cell_type": "markdown",
   "metadata": {},
   "source": [
    "Similar, the library [`pydantic`](https://pydantic-docs.helpmanual.io) checks input data in e.g. json."
   ]
  },
  {
   "cell_type": "markdown",
   "metadata": {},
   "source": [
    "### Build an API\n",
    "The library [`fastapi`](https://fastapi.tiangolo.com) relies heavily on types hints. You create API-Endpoints for function \n",
    "using function decorators. It uses type hints to e.g. check inputs, generate documentation and SWAGGER-definitions.\n",
    "\n",
    "    @app.get(\"/items/{item_id}\")\n",
    "    def read_item(item_id: int, q: Optional[str] = None):\n",
    "        return {\"item_id\": item_id, \"q\": q}"
   ]
  },
  {
   "cell_type": "markdown",
   "metadata": {},
   "source": [
    "## What are the disadvantages of type hints?\n",
    "\n",
    "* Writing type hints takes some time an effort\n",
    "* Work best with modern Python (>= 3.6)\n",
    "* They can slow down python startup (a bit)\n",
    "* Sometimes types can become complex and difficult to read (see next section)\n",
    "* It can require advanced Python knowledge to find the correct type for certain variables, in particular when using duck typing and inheritance\n",
    "* Your collegues may force you to write a lot of type hints"
   ]
  },
  {
   "cell_type": "markdown",
   "metadata": {},
   "source": [
    "## How can I express more complex types?\n",
    "\n",
    "The buildin `typing` module provides many types:\n",
    "\n",
    "### Optional\n",
    "Optional is a wrapper around other types. It means that the variable can either have other type or be `None`."
   ]
  },
  {
   "cell_type": "code",
   "execution_count": null,
   "metadata": {},
   "outputs": [],
   "source": [
    "from typing import Optional\n",
    "\n",
    "@typechecked\n",
    "def or_one(x: Optional[int]) -> int:\n",
    "    return x or 1\n",
    "\n",
    "or_one(5), or_one(None)"
   ]
  },
  {
   "cell_type": "markdown",
   "metadata": {},
   "source": [
    "### Union\n",
    "Union given different possiblities what the type can be:"
   ]
  },
  {
   "cell_type": "code",
   "execution_count": null,
   "metadata": {},
   "outputs": [],
   "source": [
    "from typing import Union\n",
    "\n",
    "@typechecked\n",
    "def to_int(x: Union[str, float]) -> int:\n",
    "    return int(x)\n",
    "\n",
    "to_int(1.5), to_int('5')"
   ]
  },
  {
   "cell_type": "markdown",
   "metadata": {},
   "source": [
    "### List, Dict, Set, Tuple\n",
    "\n",
    "You can specify the types of items in a container with the upper case equivalents from typing:"
   ]
  },
  {
   "cell_type": "code",
   "execution_count": null,
   "metadata": {},
   "outputs": [],
   "source": [
    "from typing import List\n",
    "\n",
    "@typechecked\n",
    "def sum_list(x: List[float]) -> float:\n",
    "    return sum(x)\n",
    "\n",
    "sum_list([1.1, 2.2, 3.3])"
   ]
  },
  {
   "cell_type": "code",
   "execution_count": null,
   "metadata": {},
   "outputs": [],
   "source": [
    "from typing import Dict\n",
    "\n",
    "@typechecked\n",
    "def sum_dict_values(x: Dict[str, float]) -> float:\n",
    "    return sum(x.values())\n",
    "\n",
    "sum_dict_values({'a': 1.1, 'b': 2.2, 'c': 3.3})"
   ]
  },
  {
   "cell_type": "markdown",
   "metadata": {},
   "source": [
    "Note: In professional software development, you often try to keep input types a generic as possible. That way, you can reuse a function more often. The `sum_list` function would work also for other containers and other numeric types. To express this, we could write it as:"
   ]
  },
  {
   "cell_type": "code",
   "execution_count": null,
   "metadata": {},
   "outputs": [],
   "source": [
    "from typing import Iterable, Union\n",
    "\n",
    "@typechecked\n",
    "def sum_iterable(x: Iterable[Union[int, float, complex]]) -> Union[int, float, complex]:\n",
    "    return sum(x)\n",
    "\n",
    "sum_iterable([1.1, 2.2, 3.3]), sum_iterable({1.1, 2.2, 3.3})"
   ]
  },
  {
   "cell_type": "markdown",
   "metadata": {},
   "source": [
    "Finding the correct types can get quite tricky. For example, if we normalized an array to have mean 0, we could be tempted to again us Iterable as type:"
   ]
  },
  {
   "cell_type": "code",
   "execution_count": null,
   "metadata": {},
   "outputs": [],
   "source": [
    "from typing import Iterable, Union\n",
    "\n",
    "@typechecked\n",
    "def normalize(arr: Iterable[float]) -> List[float]:\n",
    "    arr_sum = arr_len = 0\n",
    "    for x in arr:\n",
    "        arr_sum += x\n",
    "        arr_len += 1\n",
    "    \n",
    "    arr_mean = arr_sum / arr_len\n",
    "    return [x - arr_mean for x in arr]\n",
    "\n",
    "arr = [1, 2, 3, 4, 5]\n",
    "normalize(arr)"
   ]
  },
  {
   "cell_type": "markdown",
   "metadata": {},
   "source": [
    "Say are interested only in number smaller than 4. What will be the output of"
   ]
  },
  {
   "cell_type": "code",
   "execution_count": null,
   "metadata": {},
   "outputs": [],
   "source": [
    "arr = filter(lambda x: x <= 3, arr)\n",
    "normalize(arr)"
   ]
  },
  {
   "cell_type": "markdown",
   "metadata": {},
   "source": []
  },
  {
   "cell_type": "markdown",
   "metadata": {},
   "source": [
    "## What do you recommend for using type hints?\n",
    "\n",
    "* Use more type hints the more 'serious' your project is\n",
    "* Almost always use some type hints (e.g. for function arguments) to get better IDE support\n",
    "* Do not overdue it\n",
    "* Keep things simple\n",
    "* It is okay to omit complex, unhelpful or unknown type hints"
   ]
  },
  {
   "cell_type": "markdown",
   "metadata": {},
   "source": [
    "# Links\n",
    "* https://realpython.com/python-type-checking/"
   ]
  },
  {
   "cell_type": "code",
   "execution_count": null,
   "metadata": {},
   "outputs": [],
   "source": []
  }
 ],
 "metadata": {
  "celltoolbar": "Slideshow",
  "kernelspec": {
   "display_name": "Python 3 (pythonloc)",
   "language": "python",
   "name": "pythonloc"
  },
  "language_info": {
   "codemirror_mode": {
    "name": "ipython",
    "version": 3
   },
   "file_extension": ".py",
   "mimetype": "text/x-python",
   "name": "python",
   "nbconvert_exporter": "python",
   "pygments_lexer": "ipython3",
   "version": "3.8.4"
  }
 },
 "nbformat": 4,
 "nbformat_minor": 4
}
